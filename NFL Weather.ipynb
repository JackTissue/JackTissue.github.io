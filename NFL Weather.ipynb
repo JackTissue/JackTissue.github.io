{
 "cells": [
  {
   "cell_type": "markdown",
   "metadata": {},
   "source": [
    "## Weather and the NFL: Analysis\n",
    "### Data Collection\n",
    "\n",
    "The NFL, or National Football League, chooses the locations for its games in a very similar way to other major leagues, the MLB, NBA, NHL, etc; excluding the one super bowl a season and rare international games, each game takes place in one of the particpating team's stadium and facilities. The team whose stadium the game is in is traditionally considered to have an advantage (eg, \"home field advantage\") which is often represented it betting lines as well. This advantage is thought to be for a variety reasons, however, mainly a biased crowd, and comfort to the regions' weather and temperature.\n",
    "\n",
    "The most consistent data to judge home field advantage is the temperature when the game occured. In a naive sense, a person who spends months training in 90 degrees F might struggle if a game takes place at 15 degrees F, whereas someone who experiences low temps regularly would be far more accustomed.\n",
    "\n",
    "***\n",
    "\n",
    "We start by importing a dataset of the weather data of all NFL games 1963-2013, provided by nflsavant.com. This dataset includes the score of the game, the team participating, the temperaure, etc.\n",
    "\n",
    "* We define two new columns to the dataframe, the first, points differental, defined by the home teams score minus the away teams score. The differential will be positive if the home team won, negative if they lost, and 0 if the teams tied.\n",
    "\n",
    "* The second, distance, is the distance, aka how far, the temperature of the game is from the mean of all game temps.\n"
   ]
  },
  {
   "cell_type": "code",
   "execution_count": 179,
   "metadata": {},
   "outputs": [
    {
     "name": "stdout",
     "output_type": "stream",
     "text": [
      "                 id             home_team  home_score            away_team  \\\n",
      "0      196009230ram      Los Angeles Rams          21  St. Louis Cardinals   \n",
      "1      196009240dal        Dallas Cowboys          28  Pittsburgh Steelers   \n",
      "2      196009250gnb     Green Bay Packers          14        Chicago Bears   \n",
      "3      196009250sfo   San Francisco 49ers          19      New York Giants   \n",
      "4      196009250clt       Baltimore Colts          20  Washington Redskins   \n",
      "...             ...                   ...         ...                  ...   \n",
      "11187  201312290nwe  New England Patriots          34        Buffalo Bills   \n",
      "11188  201312290atl       Atlanta Falcons          20    Carolina Panthers   \n",
      "11189  201312290pit   Pittsburgh Steelers          20     Cleveland Browns   \n",
      "11190  201312290rai       Oakland Raiders          14       Denver Broncos   \n",
      "11191  201312290mia        Miami Dolphins           7        New York Jets   \n",
      "\n",
      "       away_score  temperature  wind_chill humidity  wind_mph  \\\n",
      "0              43           66         NaN      78%       8.0   \n",
      "1              35           72         NaN      80%      16.0   \n",
      "2              17           60         NaN      76%      13.0   \n",
      "3              21           72         NaN      44%      10.0   \n",
      "4               0           62         NaN      80%       9.0   \n",
      "...           ...          ...         ...      ...       ...   \n",
      "11187          20           39         NaN     100%       8.0   \n",
      "11188          21            0         0.0      NaN       NaN   \n",
      "11189           7           40         NaN      93%       5.0   \n",
      "11190          34           70         0.0      16%       8.0   \n",
      "11191          20           79         0.0      84%      12.0   \n",
      "\n",
      "                                                 weather        date  \\\n",
      "0          66 degrees- relative humidity 78%- wind 8 mph   9/23/1960   \n",
      "1         72 degrees- relative humidity 80%- wind 16 mph   9/24/1960   \n",
      "2         60 degrees- relative humidity 76%- wind 13 mph   9/25/1960   \n",
      "3         72 degrees- relative humidity 44%- wind 10 mph   9/25/1960   \n",
      "4          62 degrees- relative humidity 80%- wind 9 mph   9/25/1960   \n",
      "...                                                  ...         ...   \n",
      "11187     39 degrees- relative humidity 100%- wind 8 mph  12/29/2013   \n",
      "11188                   0 degrees- no wind- wind chill 0  12/29/2013   \n",
      "11189      40 degrees- relative humidity 93%- wind 5 mph  12/29/2013   \n",
      "11190  70 degrees- relative humidity 16%- wind 8 mph-...  12/29/2013   \n",
      "11191  79 degrees- relative humidity 84%- wind 12 mph...  12/29/2013   \n",
      "\n",
      "       points_diff   distance  \n",
      "0              -22   9.314689  \n",
      "1               -7  15.314689  \n",
      "2               -3   3.314689  \n",
      "3               -2  15.314689  \n",
      "4               20   5.314689  \n",
      "...            ...        ...  \n",
      "11187           14  17.685311  \n",
      "11188           -1  56.685311  \n",
      "11189           13  16.685311  \n",
      "11190          -20  13.314689  \n",
      "11191          -13  22.314689  \n",
      "\n",
      "[11192 rows x 13 columns]\n"
     ]
    }
   ],
   "source": [
    "from bs4 import BeautifulSoup\n",
    "import requests\n",
    "import pandas\n",
    "from statsmodels.stats.weightstats import ttest_ind\n",
    "import matplotlib.pyplot as plt\n",
    "from statsmodels.compat import lzip\n",
    "import numpy as np\n",
    "import matplotlib.pyplot as plt\n",
    "import statsmodels.api as sm\n",
    "from statsmodels.formula.api import ols\n",
    "import math\n",
    "\n",
    "df = pandas.read_csv(\"http://www.nflsavant.com/dump/weather_20131231.csv\")\n",
    "\n",
    "df['points_diff'] = df.apply(lambda row: row['home_score'] - row['away_score'], axis=1)\n",
    "\n",
    "df['distance'] = df.apply(lambda row: math.dist((df['temperature'].mean(),), (row['temperature'],)), axis=1)\n",
    "\n",
    "print(df)\n"
   ]
  },
  {
   "cell_type": "markdown",
   "metadata": {},
   "source": [
    "### Data Curation\n",
    "\n",
    "On a logical level, these temperatures would only make a difference in a game if it is signifcantly different from the average temperature, and, the advantage for the home team would be largest at these extremes. As such, we cull the data of games where the temperature was not significantly different from the average temperature. The defintion for these extremes, in this case, are the lowest .5%, and the highest 5% of values. These quantiles were chose to keep temperatures to further distance values, while also keeping the sample size large enough for a meaninfull analysis (~1200 games over 50 years).\n",
    "\n",
    "***\n",
    "\n",
    "We first list out the mean, 5% quantile, and 95% quantile. Then, we use the dataframe .drop method to drop all values with this inter-quantile range from the dataframe, and save the result to a new dataframe, extremes. We conversely use the same method to create a frame consisting of values outside this inter-quantile range, saving it as normals."
   ]
  },
  {
   "cell_type": "code",
   "execution_count": 180,
   "metadata": {},
   "outputs": [
    {
     "name": "stdout",
     "output_type": "stream",
     "text": [
      "56.68531093638313\n",
      "28.0\n",
      "77.0\n",
      "                 id            home_team  home_score            away_team  \\\n",
      "6      196009300dal       Dallas Cowboys          25  Philadelphia Eagles   \n",
      "67     196012110cle     Cleveland Browns          42        Chicago Bears   \n",
      "69     196012110pit  Pittsburgh Steelers          27  Philadelphia Eagles   \n",
      "71     196012110det        Detroit Lions          23       Dallas Cowboys   \n",
      "74     196012180det        Detroit Lions          36        Chicago Bears   \n",
      "...             ...                  ...         ...                  ...   \n",
      "11178  201312290dal       Dallas Cowboys          22  Philadelphia Eagles   \n",
      "11179  201312290chi        Chicago Bears          28    Green Bay Packers   \n",
      "11186  201312290min    Minnesota Vikings          14        Detroit Lions   \n",
      "11188  201312290atl      Atlanta Falcons          20    Carolina Panthers   \n",
      "11191  201312290mia       Miami Dolphins           7        New York Jets   \n",
      "\n",
      "       away_score  temperature  wind_chill humidity  wind_mph  \\\n",
      "6              27           77         NaN      50%      11.0   \n",
      "67              0           24        12.0      76%      15.0   \n",
      "69             21           28        18.0      76%      12.0   \n",
      "71             14           21         6.0      62%      16.0   \n",
      "74              0           23        10.0      69%      18.0   \n",
      "...           ...          ...         ...      ...       ...   \n",
      "11178          24            0         0.0      NaN       NaN   \n",
      "11179          33           26        14.0      88%      16.0   \n",
      "11186          13            0         0.0       0%       NaN   \n",
      "11188          21            0         0.0      NaN       NaN   \n",
      "11191          20           79         0.0      84%      12.0   \n",
      "\n",
      "                                                 weather        date  \\\n",
      "6         77 degrees- relative humidity 50%- wind 11 mph   9/30/1960   \n",
      "67     24 degrees- relative humidity 76%- wind 15 mph...  12/11/1960   \n",
      "69     28 degrees- relative humidity 76%- wind 12 mph...  12/11/1960   \n",
      "71     21 degrees- relative humidity 62%- wind 16 mph...  12/11/1960   \n",
      "74     23 degrees- relative humidity 69%- wind 18 mph...  12/18/1960   \n",
      "...                                                  ...         ...   \n",
      "11178                   0 degrees- no wind- wind chill 0  12/29/2013   \n",
      "11179  26 degrees- relative humidity 88%- wind 16 mph...  12/29/2013   \n",
      "11186  0 degrees- relative humidity 0%- no wind- wind...  12/29/2013   \n",
      "11188                   0 degrees- no wind- wind chill 0  12/29/2013   \n",
      "11191  79 degrees- relative humidity 84%- wind 12 mph...  12/29/2013   \n",
      "\n",
      "       points_diff   distance  \n",
      "6               -2  20.314689  \n",
      "67              42  32.685311  \n",
      "69               6  28.685311  \n",
      "71               9  35.685311  \n",
      "74              36  33.685311  \n",
      "...            ...        ...  \n",
      "11178           -2  56.685311  \n",
      "11179           -5  30.685311  \n",
      "11186            1  56.685311  \n",
      "11188           -1  56.685311  \n",
      "11191          -13  22.314689  \n",
      "\n",
      "[1216 rows x 13 columns]\n"
     ]
    }
   ],
   "source": [
    "print(df['temperature'].mean())\n",
    "print(df['temperature'].quantile(.05))\n",
    "print(df['temperature'].quantile(.95))\n",
    "\n",
    "#df.drop(df[(df['temperature'] == 0) & (df['temperature'] )].index, inplace=True)\n",
    "extremes = df.drop(df[(df['temperature'] < df['temperature'].quantile(.95)) & (df['temperature'] > df['temperature'].quantile(.05))].index)\n",
    "\n",
    "normals = df.drop(df[(df['temperature'] <= df['temperature'].quantile(.95)) & (df['temperature'] <= df['temperature'].quantile(.05))].index)\n",
    "print(extremes)"
   ]
  },
  {
   "cell_type": "markdown",
   "metadata": {},
   "source": [
    "### Exploratory Analysis: Scatterplot\n",
    "\n",
    "First, it is important to see if there are any readily-apparent trends to our data. \n",
    "\n",
    "***\n",
    "\n",
    "So, we first show our points differntials data vs our distance from mean temp dats, for our extremes dataframe. The scatterplot here does not show any apparent trend between the two variables."
   ]
  },
  {
   "cell_type": "code",
   "execution_count": 181,
   "metadata": {},
   "outputs": [
    {
     "data": {
      "text/plain": "<AxesSubplot:title={'center':'Point Differential vs Temp Distance from Mean'}, xlabel='distance', ylabel='points_diff'>"
     },
     "execution_count": 181,
     "metadata": {},
     "output_type": "execute_result"
    },
    {
     "data": {
      "image/png": "[encoded data removed]",
      "text/plain": "<Figure size 432x288 with 1 Axes>"
     },
     "metadata": {
      "needs_background": "light"
     },
     "output_type": "display_data"
    }
   ],
   "source": [
    "extremes.plot.scatter('distance','points_diff', title='Point Differential vs Temp Distance from Mean')\n"
   ]
  },
  {
   "cell_type": "markdown",
   "metadata": {},
   "source": [
    "### Exploratory Analysis: Linear Regression\n",
    "\n",
    "While our scatterplot may not show any interaction, a more detailed linear regression can ascertain if there is any pattern between the two variables.\n",
    "\n",
    "***\n",
    "\n",
    "We use statsmodels OLS regression, to give us a summary of a linear regression. From the results, we first see an R Squared of .003, which indicated almost no pattern between the variables, meaning only .3% of variation in Point Differential can be predicted by distance. Furthermore, we see a p values of 3.546 for our intercept and .179 for our slope of the regression line. At the standard .05 significane, bothe of tehse values are not signifcant. As such, our linear regression does not produce a reliable line. Overall, our linear regession tells that is is unlikely that Point Differential and Distance are associated in extreme temp games. "
   ]
  },
  {
   "cell_type": "code",
   "execution_count": 182,
   "metadata": {},
   "outputs": [
    {
     "name": "stdout",
     "output_type": "stream",
     "text": [
      "                            OLS Regression Results                            \n",
      "==============================================================================\n",
      "Dep. Variable:            points_diff   R-squared:                       0.003\n",
      "Model:                            OLS   Adj. R-squared:                  0.002\n",
      "Method:                 Least Squares   F-statistic:                     3.571\n",
      "Date:                Mon, 16 May 2022   Prob (F-statistic):             0.0590\n",
      "Time:                        16:34:32   Log-Likelihood:                -4985.9\n",
      "No. Observations:                1216   AIC:                             9976.\n",
      "Df Residuals:                    1214   BIC:                             9986.\n",
      "Df Model:                           1                                         \n",
      "Covariance Type:            nonrobust                                         \n",
      "==============================================================================\n",
      "                 coef    std err          t      P>|t|      [0.025      0.975]\n",
      "------------------------------------------------------------------------------\n",
      "Intercept      0.6806      1.461      0.466      0.641      -2.185       3.546\n",
      "distance       0.0876      0.046      1.890      0.059      -0.003       0.179\n",
      "==============================================================================\n",
      "Omnibus:                        3.365   Durbin-Watson:                   2.020\n",
      "Prob(Omnibus):                  0.186   Jarque-Bera (JB):                3.763\n",
      "Skew:                           0.008   Prob(JB):                        0.152\n",
      "Kurtosis:                       3.272   Cond. No.                         110.\n",
      "==============================================================================\n",
      "\n",
      "Notes:\n",
      "[1] Standard Errors assume that the covariance matrix of the errors is correctly specified.\n"
     ]
    }
   ],
   "source": [
    "model = ols(\"points_diff ~ distance\", data=extremes).fit()\n",
    "print(model.summary())"
   ]
  },
  {
   "cell_type": "markdown",
   "metadata": {},
   "source": [
    "### Hypothesis Test\n",
    "\n",
    "The most definitive test for our data is a hypothesis test, in this case, a t test. A t test compared two variables, in our case Point Differential in extreme temperature games and point differentials in alll other games, and determine whether the differences between them can be attribution to random chance. \n",
    "\n",
    "The results of a t test, mainly a p value, tell us whether or not to reject the null hypothesis. In our instance, the null hypothesis is that that the mean Point Differential from the extreme games and the mean from normal games are equal. The alternate is that they are not equal.\n",
    "\n",
    "***\n",
    "\n",
    "Our t test, done using statsmodels, is conducted using the 'unequal' option, since our datasets are of different sizes, extreme the smaller and normal the larger. Our p value is .13, which, at a standard signifcane level of .05, is not significant. As such, there is insuffieicent evidence at .05 significance to reject the null hypothesis."
   ]
  },
  {
   "cell_type": "code",
   "execution_count": 183,
   "metadata": {},
   "outputs": [
    {
     "data": {
      "text/plain": "(1.5121309608107745, 0.13070742570342214, 1527.3135708076431)"
     },
     "execution_count": 183,
     "metadata": {},
     "output_type": "execute_result"
    }
   ],
   "source": [
    "ttest = ttest_ind(extremes['points_diff'], normals['points_diff'],usevar='unequal')\n",
    "ttest"
   ]
  },
  {
   "cell_type": "markdown",
   "metadata": {},
   "source": [
    "### Conclusions\n",
    "\n",
    "Due to multiple reasons, it is clear that extreme temperatues do not give the home team a statistically significant advantage. \n",
    "\n",
    "* For the scatterplot, we see no correlation. If extreme temps did help home teams, we would expect to see a postitive trend where as temperature didtance from mean became great, the point differentials would become more and more positve. \n",
    "\n",
    "* For the linear regression, we would expect to see a positive slope, and a high R Squared, both indicating that increases in distance result in increased point diffs. Instead, we ended up with an extremly low R Squared, and a statistically insigificant regression line.\n",
    "\n",
    "* Finally, for the hypothesis test, we see that we are unable to reject the null hypothesis that the average point diff for extreme temp and normal games are the same.\n",
    "\n",
    "So, it is clear that the very real phenomenom of home field advantage is probably not caused by extreme temperatures. However, this does not mean that weather condtions, comfort and biased fans are any less contributers to home field advantage \n",
    "\n"
   ]
  }
 ],
 "metadata": {
  "kernelspec": {
   "display_name": "Python 3.9.7 64-bit ('base': conda)",
   "name": "python397jvsc74a57bd098b0a9b7b4eaaa670588a142fd0a9b87eaafe866f1db4228be72b4211d12040f"
  },
  "language_info": {
   "codemirror_mode": {
    "name": "ipython",
    "version": 3
   },
   "file_extension": ".py",
   "mimetype": "text/x-python",
   "name": "python",
   "nbconvert_exporter": "python",
   "pygments_lexer": "ipython3",
   "version": "3.9.7"
  },
  "orig_nbformat": 2
 },
 "nbformat": 4,
 "nbformat_minor": 2
}